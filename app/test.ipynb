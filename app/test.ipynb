{
 "cells": [
  {
   "cell_type": "code",
   "execution_count": null,
   "id": "261450a7",
   "metadata": {},
   "outputs": [],
   "source": [
    "from utils.parse_openapi import parse_openapi_tools\n",
    "import json\n",
    "\n",
    "# 假设 openapi.json 已经保存到本地\n",
    "with open(\"openapi.json\", \"r\", encoding=\"utf-8\") as f:\n",
    "    openapi_json = json.load(f)\n",
    "\n",
    "base_url = \"http://8.218.206.87:8500\"\n",
    "tools = parse_openapi_tools(openapi_json, base_url)\n",
    "\n",
    "# 查看工具信息\n",
    "for name, info in tools.items():\n",
    "    print(f\"工具名: {name}\")\n",
    "    print(f\"描述: {info['description']}\")\n",
    "    print(f\"参数: {info['parameters']}\")\n",
    "    print(\"-\" * 50)\n"
   ]
  },
  {
   "cell_type": "code",
   "execution_count": null,
   "id": "c5077ed3",
   "metadata": {},
   "outputs": [],
   "source": [
    "tool_name = \"get_idea_by_need_get_idea_by_need_post\"\n",
    "\n",
    "if tool_name in tools:\n",
    "    func = tools[tool_name][\"func\"]\n",
    "    result = func(need=\"生成一个自动化脚本\", limit=5)  # 参数按 JSON Schema 提供\n",
    "    print(\"调用结果:\", result)\n"
   ]
  },
  {
   "cell_type": "code",
   "execution_count": null,
   "id": "8c4ff8fb",
   "metadata": {},
   "outputs": [],
   "source": [
    "from utils.openapi_to_tools_json import openapi_to_mcp_tools\n",
    "# 示例 openapi.json\n",
    "import json\n",
    "\n",
    "# 假设 openapi.json 已经保存到本地\n",
    "with open(\"openapi.json\", \"r\", encoding=\"utf-8\") as f:\n",
    "    example_openapi = json.load(f)\n",
    "\n",
    "mcp_tools = openapi_to_mcp_tools(example_openapi)\n",
    "print(json.dumps(mcp_tools, indent=2, ensure_ascii=False))"
   ]
  },
  {
   "cell_type": "code",
   "execution_count": 9,
   "id": "b6f8b033",
   "metadata": {},
   "outputs": [
    {
     "name": "stdout",
     "output_type": "stream",
     "text": [
      "状态码: 200\n",
      "返回内容: {'success': True, 'message': '成功注册 5 个工具到内存'}\n"
     ]
    }
   ],
   "source": [
    "# test_register_tools_request.py\n",
    "import requests\n",
    "\n",
    "# FastAPI 服务地址\n",
    "BASE_URL = \"http://127.0.0.1:8000\"\n",
    "\n",
    "# 构造最小 OpenAPI JSON 示例\n",
    "\n",
    "with open(\"openapi.json\", \"r\", encoding=\"utf-8\") as f:\n",
    "    example_openapi = json.load(f)\n",
    "payload = {\n",
    "    \"openapi_json\": example_openapi,\n",
    "    \"base_url\": \"http://8.218.206.87:8500\"\n",
    "}\n",
    "\n",
    "response = requests.post(f\"{BASE_URL}/register_tools\", json=payload)\n",
    "\n",
    "print(\"状态码:\", response.status_code)\n",
    "print(\"返回内容:\", response.json())\n"
   ]
  },
  {
   "cell_type": "code",
   "execution_count": 16,
   "id": "f4b2a8e8",
   "metadata": {},
   "outputs": [
    {
     "name": "stdout",
     "output_type": "stream",
     "text": [
      "状态码: 200\n",
      "返回数据: {\n",
      "  \"result\": \"工具 `get_history_by_round` 可用。以下是第1轮的完整历史数据：\\n\\n```json\\n{\\n\\\"round\\\": 1,\\n\\\"thought\\\": \\\"用户要求测试获取某轮完整信息的工具是否可用，具体是让我从第3轮开始查第一轮的数据，并输出第一轮数据的完整内容。我需要调用 `get_history_by_round` 工具来获取指定轮数的历史信息。\\\",\\n\\\"action\\\": \\\"get_history_by_round\\\",\\n\\\"action_input\\\": {\\n\\\"round\\\": 1\\n},\\n\\\"observation\\\": {}\\n}\\n```\"\n",
      "}\n"
     ]
    }
   ],
   "source": [
    "import requests\n",
    "import json\n",
    "\n",
    "BASE_URL = \"http://127.0.0.1:8000\"\n",
    "\n",
    "payload = {\n",
    "    \"task\": \"你帮我测试一下获取某轮完整信息的工具可以用吗。你从第3轮开始查第一轮的数据，并且输出第一轮数据的完整\"\n",
    "}\n",
    "\n",
    "response = requests.post(f\"{BASE_URL}/run_agent\", json=payload)\n",
    "\n",
    "print(\"状态码:\", response.status_code)\n",
    "try:\n",
    "    print(\"返回数据:\", json.dumps(response.json(), ensure_ascii=False, indent=2))\n",
    "except Exception:\n",
    "    print(\"返回内容不是 JSON:\", response.text)\n"
   ]
  }
 ],
 "metadata": {
  "kernelspec": {
   "display_name": "react_agent",
   "language": "python",
   "name": "python3"
  },
  "language_info": {
   "codemirror_mode": {
    "name": "ipython",
    "version": 3
   },
   "file_extension": ".py",
   "mimetype": "text/x-python",
   "name": "python",
   "nbconvert_exporter": "python",
   "pygments_lexer": "ipython3",
   "version": "3.10.18"
  }
 },
 "nbformat": 4,
 "nbformat_minor": 5
}
