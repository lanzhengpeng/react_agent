{
 "cells": [
  {
   "cell_type": "code",
   "execution_count": 2,
   "id": "261450a7",
   "metadata": {},
   "outputs": [
    {
     "name": "stdout",
     "output_type": "stream",
     "text": [
      "工具名: get_idea_by_need_get_idea_by_need_post\n",
      "描述: Get Idea By Need\n",
      "参数: {'need': {'type': 'string', 'description': 'Need', 'default': None}, 'limit': {'type': 'integer', 'description': 'Limit', 'default': 20}}\n",
      "--------------------------------------------------\n",
      "工具名: get_fun_by_idea_get_fun_by_idea_post\n",
      "描述: 根据 idea 搜索对应的 fun\n",
      "参数: {'idea': {'type': 'string', 'description': 'Idea', 'default': None}, 'limit': {'type': 'integer', 'description': 'Limit', 'default': 20}}\n",
      "--------------------------------------------------\n",
      "工具名: get_fun_detail_get_fun_detail_post\n",
      "描述: 根据函数名获取函数详细信息，只返回指定字段。\n",
      "如果精确查不到，就走向量模糊匹配，并提示“可能的函数”。\n",
      "参数: {'name': {'type': 'string', 'description': 'Name', 'default': None}, 'limit': {'type': 'integer', 'description': 'Limit', 'default': 1}}\n",
      "--------------------------------------------------\n",
      "工具名: get_enum_detail_get_enum_detail_post\n",
      "描述: 根据枚举名获取枚举详细信息，只返回指定字段\n",
      "参数: {'name': {'type': 'string', 'description': 'Name', 'default': None}, 'limit': {'type': 'integer', 'description': 'Limit', 'default': 1}}\n",
      "--------------------------------------------------\n",
      "工具名: get_structure_detail_get_structure_detail_post\n",
      "描述: 根据结构体名获取结构体详细信息，只返回指定字段\n",
      "参数: {'name': {'type': 'string', 'description': 'Name', 'default': None}, 'limit': {'type': 'string', 'description': 'Limit', 'default': 10}}\n",
      "--------------------------------------------------\n"
     ]
    }
   ],
   "source": [
    "from utils.parse_openapi import parse_openapi_tools\n",
    "import json\n",
    "\n",
    "# 假设 openapi.json 已经保存到本地\n",
    "with open(\"openapi.json\", \"r\", encoding=\"utf-8\") as f:\n",
    "    openapi_json = json.load(f)\n",
    "\n",
    "base_url = \"http://8.218.206.87:8500\"\n",
    "tools = parse_openapi_tools(openapi_json, base_url)\n",
    "\n",
    "# 查看工具信息\n",
    "for name, info in tools.items():\n",
    "    print(f\"工具名: {name}\")\n",
    "    print(f\"描述: {info['description']}\")\n",
    "    print(f\"参数: {info['parameters']}\")\n",
    "    print(\"-\" * 50)\n"
   ]
  },
  {
   "cell_type": "code",
   "execution_count": 5,
   "id": "c5077ed3",
   "metadata": {},
   "outputs": [
    {
     "name": "stdout",
     "output_type": "stream",
     "text": [
      "调用结果: [{'need': '通过用户输入的表达式名称创建对应的智能标量表达式并显示结果', 'idea': '1.初始化NX开发环境\\n2.提示用户输入表达式名称\\n3.根据表达式名称获取表达式字符串\\n4.解析表达式字符串获取表达式tag\\n5.创建智能标量表达式\\n6.将结果写入列表窗口\\n7.终止NX开发环境'}, {'need': '通过用户输入的表达式名称创建对应的智能标量表达式并显示结果', 'idea': '1.初始化NX开发环境\\n2.提示用户输入表达式名称\\n3.根据表达式名称获取表达式字符串\\n4.解析表达式字符串获取表达式tag\\n5.创建智能标量表达式\\n6.将结果写入列表窗口\\n7.终止NX开发环境'}, {'need': '在所有图纸页面上批量创建包含指定文本的注释', 'idea': '1.初始化NX开发环境\\n2.获取当前NX会话的显示状态\\n3.获取当前工作部件中所有图纸的标识符数组\\n4.遍历图纸数组并打开每个图纸\\n5.若当前为单视图模式则切换至图纸工作模式\\n6.在指定位置创建多行文本注释\\n7.释放图纸数组内存\\n8.终止NX开发环境'}, {'need': '实现自动标注功能：选择视图并将其添加到指定的部件清单中', 'idea': '1.初始化UF环境\\n2.设置撤销标记点\\n3.选择部件清单\\n4.选择视图\\n5.获取部件清单的表格注释\\n6.查询部件清单的偏好设置\\n7.设置部件清单的符号类型\\n8.将视图添加到部件清单中\\n9.更新部件清单\\n10.终止UF环境'}, {'need': '实现自动标注功能：选择视图并将其添加到指定的部件清单中', 'idea': '1.初始化UF环境\\n2.设置选择部件清单的过滤条件\\n3.选择部件清单\\n4.选择视图\\n5.获取部件清单的表格注释\\n6.获取部件清单的偏好设置\\n7.设置部件清单的符号类型\\n8.将视图添加到部件清单中\\n9.更新部件清单\\n10.终止UF环境'}]\n"
     ]
    }
   ],
   "source": [
    "tool_name = \"get_idea_by_need_get_idea_by_need_post\"\n",
    "\n",
    "if tool_name in tools:\n",
    "    func = tools[tool_name][\"func\"]\n",
    "    result = func(need=\"生成一个自动化脚本\", limit=5)  # 参数按 JSON Schema 提供\n",
    "    print(\"调用结果:\", result)\n"
   ]
  },
  {
   "cell_type": "code",
   "execution_count": 1,
   "id": "8c4ff8fb",
   "metadata": {},
   "outputs": [
    {
     "name": "stdout",
     "output_type": "stream",
     "text": [
      "{\n",
      "  \"tools\": [\n",
      "    {\n",
      "      \"name\": \"get_idea_by_need_get_idea_by_need_post\",\n",
      "      \"description\": \"Get Idea By Need\",\n",
      "      \"input_schema\": {\n",
      "        \"type\": \"object\",\n",
      "        \"properties\": {\n",
      "          \"need\": {\n",
      "            \"anyOf\": [\n",
      "              {\n",
      "                \"type\": \"string\"\n",
      "              },\n",
      "              {\n",
      "                \"type\": \"null\"\n",
      "              }\n",
      "            ],\n",
      "            \"title\": \"Need\",\n",
      "            \"description\": \"Need\"\n",
      "          },\n",
      "          \"limit\": {\n",
      "            \"type\": \"integer\",\n",
      "            \"title\": \"Limit\",\n",
      "            \"default\": 20,\n",
      "            \"description\": \"Limit\"\n",
      "          }\n",
      "        }\n",
      "      }\n",
      "    },\n",
      "    {\n",
      "      \"name\": \"get_fun_by_idea_get_fun_by_idea_post\",\n",
      "      \"description\": \"Get Fun By Idea\",\n",
      "      \"input_schema\": {\n",
      "        \"type\": \"object\",\n",
      "        \"properties\": {\n",
      "          \"idea\": {\n",
      "            \"anyOf\": [\n",
      "              {\n",
      "                \"type\": \"string\"\n",
      "              },\n",
      "              {\n",
      "                \"type\": \"null\"\n",
      "              }\n",
      "            ],\n",
      "            \"title\": \"Idea\",\n",
      "            \"description\": \"Idea\"\n",
      "          },\n",
      "          \"limit\": {\n",
      "            \"type\": \"integer\",\n",
      "            \"title\": \"Limit\",\n",
      "            \"default\": 20,\n",
      "            \"description\": \"Limit\"\n",
      "          }\n",
      "        }\n",
      "      }\n",
      "    },\n",
      "    {\n",
      "      \"name\": \"get_fun_detail_get_fun_detail_post\",\n",
      "      \"description\": \"Get Fun Detail\",\n",
      "      \"input_schema\": {\n",
      "        \"type\": \"object\",\n",
      "        \"properties\": {\n",
      "          \"name\": {\n",
      "            \"type\": \"string\",\n",
      "            \"title\": \"Name\",\n",
      "            \"description\": \"Name\"\n",
      "          },\n",
      "          \"limit\": {\n",
      "            \"type\": \"integer\",\n",
      "            \"title\": \"Limit\",\n",
      "            \"default\": 1,\n",
      "            \"description\": \"Limit\"\n",
      "          }\n",
      "        },\n",
      "        \"required\": [\n",
      "          \"name\"\n",
      "        ]\n",
      "      }\n",
      "    },\n",
      "    {\n",
      "      \"name\": \"get_enum_detail_get_enum_detail_post\",\n",
      "      \"description\": \"Get Enum Detail\",\n",
      "      \"input_schema\": {\n",
      "        \"type\": \"object\",\n",
      "        \"properties\": {\n",
      "          \"name\": {\n",
      "            \"type\": \"string\",\n",
      "            \"title\": \"Name\",\n",
      "            \"description\": \"Name\"\n",
      "          },\n",
      "          \"limit\": {\n",
      "            \"type\": \"integer\",\n",
      "            \"title\": \"Limit\",\n",
      "            \"default\": 1,\n",
      "            \"description\": \"Limit\"\n",
      "          }\n",
      "        },\n",
      "        \"required\": [\n",
      "          \"name\"\n",
      "        ]\n",
      "      }\n",
      "    }\n",
      "  ]\n",
      "}\n"
     ]
    }
   ],
   "source": [
    "from utils.openapi_to_tools_json import openapi_to_mcp_tools\n",
    "# 示例 openapi.json\n",
    "import json\n",
    "\n",
    "# 假设 openapi.json 已经保存到本地\n",
    "with open(\"openapi.json\", \"r\", encoding=\"utf-8\") as f:\n",
    "    example_openapi = json.load(f)\n",
    "\n",
    "mcp_tools = openapi_to_mcp_tools(example_openapi)\n",
    "print(json.dumps(mcp_tools, indent=2, ensure_ascii=False))"
   ]
  },
  {
   "cell_type": "code",
   "execution_count": 3,
   "id": "b6f8b033",
   "metadata": {},
   "outputs": [
    {
     "name": "stdout",
     "output_type": "stream",
     "text": [
      "状态码: 200\n",
      "返回内容: {'success': True, 'message': '成功注册 5 个工具到内存'}\n"
     ]
    }
   ],
   "source": [
    "# test_register_tools_request.py\n",
    "import requests\n",
    "\n",
    "# FastAPI 服务地址\n",
    "BASE_URL = \"http://127.0.0.1:8000\"\n",
    "\n",
    "# 构造最小 OpenAPI JSON 示例\n",
    "\n",
    "with open(\"openapi.json\", \"r\", encoding=\"utf-8\") as f:\n",
    "    example_openapi = json.load(f)\n",
    "payload = {\n",
    "    \"openapi_json\": example_openapi,\n",
    "    \"base_url\": \"http://8.218.206.87:8500\"\n",
    "}\n",
    "\n",
    "response = requests.post(f\"{BASE_URL}/register_tools\", json=payload)\n",
    "\n",
    "print(\"状态码:\", response.status_code)\n",
    "print(\"返回内容:\", response.json())\n"
   ]
  },
  {
   "cell_type": "code",
   "execution_count": 4,
   "id": "f4b2a8e8",
   "metadata": {},
   "outputs": [
    {
     "name": "stdout",
     "output_type": "stream",
     "text": [
      "状态码: 200\n",
      "返回数据: {\n",
      "  \"result\": \"```c\\n#include <uf.h>\\n#include <uf_modl.h>\\n#include <uf_defs.h>\\n#include <iostream>\\n\\nextern \\\"C\\\" DllExport void ufusr(char *param, int *retCode, int paramLen)\\n{\\nint ifail = UF_initialize();\\nif (ifail != 0)\\n{\\nchar msg[256];\\nUF_get_fail_message(ifail, msg);\\nstd::cerr << \\\"UF_initialize 失败: \\\" << msg << std::endl;\\nreturn;\\n}\\n\\ntry {\\ntag_t cyl_tag;\\ndouble origin[3] = {0.0, 0.0, 0.0};          // 圆柱底面中心坐标\\ndouble direction[3] = {0.0, 0.0, 1.0};       // 轴向方向（Z轴）\\nchar *height = (char *)\\\"20\\\";                 // 高度，字符串形式\\nchar *diameter = (char *)\\\"10\\\";               // 直径，字符串形式\\n\\n// 创建圆柱体\\nifail = UF_MODL_create_cyl1(UF_NULLSIGN, origin, height, diameter, direction, &cyl_tag);\\nif (ifail != 0)\\n{\\nchar msg[256];\\nUF_get_fail_message(ifail, msg);\\nstd::cerr << \\\"UF_MODL_create_cyl1 失败: \\\" << msg << std::endl;\\n}\\n}\\ncatch (...) {\\nstd::cerr << \\\"UFUN 执行异常\\\" << std::endl;\\n}\\n\\nUF_terminate();\\n}\\n\\nextern \\\"C\\\" DllExport int ufusr_ask_unload()\\n{\\nreturn (int)UF_UNLOAD_IMMEDIATELY;\\n}\\n```\"\n",
      "}\n"
     ]
    }
   ],
   "source": [
    "import requests\n",
    "import json\n",
    "\n",
    "BASE_URL = \"http://127.0.0.1:8000\"\n",
    "\n",
    "payload = {\n",
    "    \"task\": \"帮我生成一个圆柱\"\n",
    "}\n",
    "\n",
    "response = requests.post(f\"{BASE_URL}/run_agent\", json=payload)\n",
    "\n",
    "print(\"状态码:\", response.status_code)\n",
    "try:\n",
    "    print(\"返回数据:\", json.dumps(response.json(), ensure_ascii=False, indent=2))\n",
    "except Exception:\n",
    "    print(\"返回内容不是 JSON:\", response.text)\n"
   ]
  }
 ],
 "metadata": {
  "kernelspec": {
   "display_name": "react_agent",
   "language": "python",
   "name": "python3"
  },
  "language_info": {
   "codemirror_mode": {
    "name": "ipython",
    "version": 3
   },
   "file_extension": ".py",
   "mimetype": "text/x-python",
   "name": "python",
   "nbconvert_exporter": "python",
   "pygments_lexer": "ipython3",
   "version": "3.10.18"
  }
 },
 "nbformat": 4,
 "nbformat_minor": 5
}
